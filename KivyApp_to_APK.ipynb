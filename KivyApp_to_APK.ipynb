{
  "nbformat": 4,
  "nbformat_minor": 0,
  "metadata": {
    "colab": {
      "name": "KivyApp to APK.ipynb",
      "provenance": [],
      "collapsed_sections": [],
      "include_colab_link": true
    },
    "kernelspec": {
      "name": "python3",
      "display_name": "Python 3"
    }
  },
  "cells": [
    {
      "cell_type": "markdown",
      "metadata": {
        "id": "view-in-github",
        "colab_type": "text"
      },
      "source": [
        "<a href=\"https://colab.research.google.com/github/Abhishek-op/Abhishek-op/blob/main/KivyApp_to_APK.ipynb\" target=\"_parent\"><img src=\"https://colab.research.google.com/assets/colab-badge.svg\" alt=\"Open In Colab\"/></a>"
      ]
    },
    {
      "cell_type": "code",
      "metadata": {
        "id": "Yzg0jnV7dHTp"
      },
      "source": [
        "!pip install buildozer"
      ],
      "execution_count": null,
      "outputs": []
    },
    {
      "cell_type": "code",
      "metadata": {
        "id": "XX3isEFydNar"
      },
      "source": [
        "!pip install cython==0.29.19"
      ],
      "execution_count": null,
      "outputs": []
    },
    {
      "cell_type": "code",
      "metadata": {
        "id": "QZRYW9UvdcDt"
      },
      "source": [
        "!sudo apt-get install -y \\\n",
        "    python3-pip \\\n",
        "    build-essential \\\n",
        "    git \\\n",
        "    python3 \\\n",
        "    python3-dev \\\n",
        "    ffmpeg \\\n",
        "    libsdl2-dev \\\n",
        "    libsdl2-image-dev \\\n",
        "    libsdl2-mixer-dev \\\n",
        "    libsdl2-ttf-dev \\\n",
        "    libportmidi-dev \\\n",
        "    libswscale-dev \\\n",
        "    libavformat-dev \\\n",
        "    libavcodec-dev \\\n",
        "    zlib1g-dev"
      ],
      "execution_count": null,
      "outputs": []
    },
    {
      "cell_type": "code",
      "metadata": {
        "id": "S9Z7KfTOnXuZ"
      },
      "source": [
        "!sudo apt-get install -y \\\n",
        "    libgstreamer1.0 \\\n",
        "    gstreamer1.0-plugins-base \\\n",
        "    gstreamer1.0-plugins-good"
      ],
      "execution_count": null,
      "outputs": []
    },
    {
      "cell_type": "code",
      "metadata": {
        "id": "Gjp7v6bTnd5V"
      },
      "source": [
        "!sudo apt-get install build-essential libsqlite3-dev sqlite3 bzip2 libbz2-dev zlib1g-dev libssl-dev openssl libgdbm-dev libgdbm-compat-dev liblzma-dev libreadline-dev libncursesw5-dev libffi-dev uuid-dev libffi6"
      ],
      "execution_count": null,
      "outputs": []
    },
    {
      "cell_type": "code",
      "metadata": {
        "id": "DA3BNyuKnrI1"
      },
      "source": [
        "!sudo apt-get install libffi-dev"
      ],
      "execution_count": null,
      "outputs": []
    },
    {
      "cell_type": "code",
      "metadata": {
        "id": "EeTysn9dntOO"
      },
      "source": [
        "!buildozer init"
      ],
      "execution_count": null,
      "outputs": []
    },
    {
      "cell_type": "code",
      "metadata": {
        "id": "tLbircO10N0a",
        "outputId": "f93fc987-4b0a-4ea2-ee47-d593ae113710",
        "colab": {
          "base_uri": "https://localhost:8080/"
        }
      },
      "source": [
        "!buildozer android clean"
      ],
      "execution_count": 46,
      "outputs": [
        {
          "output_type": "stream",
          "name": "stdout",
          "text": [
            "\u001b[91m\u001b[1mBuildozer is running as root!\u001b[0m\n",
            "\u001b[91mThis is \u001b[1mnot\u001b[0m \u001b[91mrecommended, and may lead to problems later.\u001b[0m\n",
            "Are you sure you want to continue [y/n]? y\n",
            "\u001b[39m\u001b[0m\u001b[36m# Ensure build layout\u001b[39m\u001b[0m\n",
            "No buildozer.spec found in the current directory. Abandon.\n",
            "\u001b[0m"
          ]
        }
      ]
    },
    {
      "cell_type": "code",
      "metadata": {
        "id": "YZPSi3j4oweu",
        "outputId": "5cb7dfe5-3384-423d-ba87-5f54acc018bc",
        "colab": {
          "base_uri": "https://localhost:8080/"
        }
      },
      "source": [
        "cd /content/main/.buildozer/android/platform/python-for-android/pythonforandroid/recipes"
      ],
      "execution_count": 57,
      "outputs": [
        {
          "output_type": "stream",
          "name": "stdout",
          "text": [
            "/content/main/.buildozer/android/platform/python-for-android/pythonforandroid/recipes\n"
          ]
        }
      ]
    },
    {
      "cell_type": "code",
      "source": [
        "!ls"
      ],
      "metadata": {
        "id": "vzR2oEoz96Ml",
        "outputId": "29bb5bfc-a352-4c8e-ab57-57f359d97096",
        "colab": {
          "base_uri": "https://localhost:8080/"
        }
      },
      "execution_count": 60,
      "outputs": [
        {
          "output_type": "stream",
          "name": "stdout",
          "text": [
            "aiohttp\t\t   ifaddrs\t   msgpack-python\t pytz\n",
            "android\t\t   __init__.py\t   mysqldb\t\t pyusb\n",
            "apsw\t\t   jedi\t\t   ndghttpsclient\t pyzbar\n",
            "argon2-cffi\t   jpeg\t\t   netifaces\t\t pyzmq\n",
            "atom\t\t   kivy\t\t   numpy\t\t regex\n",
            "audiostream\t   kivy3\t   omemo\t\t reportlab\n",
            "babel\t\t   kiwisolver\t   omemo-backend-signal  ruamel.yaml\n",
            "bcrypt\t\t   lapack\t   openal\t\t scipy\n",
            "boost\t\t   leveldb\t   opencv\t\t scrypt\n",
            "brokenrecipe\t   libbz2\t   opencv_extras\t sdl2\n",
            "cdecimal\t   libcurl\t   openssl\t\t sdl2_image\n",
            "cffi\t\t   libexpat\t   pandas\t\t sdl2_mixer\n",
            "coverage\t   libffi\t   pil\t\t\t sdl2_ttf\n",
            "cppy\t\t   libgeos\t   Pillow\t\t secp256k1\n",
            "cryptography\t   libglob\t   png\t\t\t setuptools\n",
            "cymunk\t\t   libiconv\t   preppy\t\t shapely\n",
            "cython\t\t   liblzma\t   protobuf_cpp\t\t six\n",
            "dateutil\t   libmysqlclient  psycopg2\t\t snappy\n",
            "decorator\t   libogg\t   pyaml\t\t spine\n",
            "enaml\t\t   libpcre\t   pybind11\t\t sqlalchemy\n",
            "ethash\t\t   libpq\t   pycparser\t\t sqlite3\n",
            "evdev\t\t   librt\t   pycrypto\t\t storm\n",
            "feedparser\t   libsecp256k1    pycryptodome\t\t sympy\n",
            "ffmpeg\t\t   libshine\t   pydantic\t\t tflite-runtime\n",
            "ffpyplayer\t   libsodium\t   pygame\t\t twisted\n",
            "ffpyplayer_codecs  libtorrent\t   pyicu\t\t ujson\n",
            "flask\t\t   libtribler\t   pyjnius\t\t vispy\n",
            "fontconfig\t   libvorbis\t   pyleveldb\t\t vlc\n",
            "freetype\t   libvpx\t   pymunk\t\t wsaccel\n",
            "freetype-py\t   libwebp\t   pynacl\t\t x3dh\n",
            "genericndkbuild    libx264\t   pyogg\t\t xeddsa\n",
            "gevent\t\t   libxml2\t   pyopenal\t\t zbar\n",
            "greenlet\t   libxslt\t   pyopenssl\t\t zbarlight\n",
            "groestlcoin_hash   libzbar\t   pyproj\t\t zeroconf\n",
            "harfbuzz\t   libzmq\t   pyrxp\t\t zope\n",
            "hostpython3\t   lxml\t\t   pysdl2\t\t zope_interface\n",
            "icu\t\t   m2crypto\t   pysha3\n",
            "ifaddr\t\t   matplotlib\t   python3\n"
          ]
        }
      ]
    },
    {
      "cell_type": "code",
      "metadata": {
        "id": "wyVLXEgJFeqv"
      },
      "source": [
        "!cp -r main.py /content/main/.buildozer/android/app/\n"
      ],
      "execution_count": 40,
      "outputs": []
    }
  ]
}